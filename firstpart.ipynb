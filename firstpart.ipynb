{
 "cells": [
  {
   "cell_type": "code",
   "execution_count": 44,
   "metadata": {
    "collapsed": true
   },
   "outputs": [],
   "source": [
    "    from IPython.core.interactiveshell import InteractiveShell\n",
    "InteractiveShell.ast_node_interactivity = \"all\"\n",
    "\n",
    "from sklearn import preprocessing\n",
    "import pandas as pd\n",
    "import numpy as np\n",
    "import matplotlib.pyplot as plt\n",
    "import seaborn as sns\n",
    "\n",
    "dfTourneyResults = pd.read_csv('tourney_results.csv')\n",
    "dfRegularSeasonResults = pd.read_csv('regular_season_results.csv')\n",
    "dfSampleSubmission = pd.read_csv('sample_submission.csv')\n",
    "dfSeasons = pd.read_csv('seasons.csv')\n",
    "dfTeams = pd.read_csv('teams.csv')\n",
    "dfTourneySeeds = pd.read_csv('tourney_seeds.csv')\n",
    "dfTourneySlots = pd.read_csv('tourney_slots.csv')"
   ]
  },
  {
   "cell_type": "markdown",
   "source": [
    "Učitavanje svih datoteka te import svih potrebnih biblioteka"
   ],
   "metadata": {
    "collapsed": false
   }
  },
  {
   "cell_type": "code",
   "execution_count": 45,
   "outputs": [
    {
     "data": {
      "text/plain": "(1156, 7)"
     },
     "execution_count": 45,
     "metadata": {},
     "output_type": "execute_result"
    },
    {
     "data": {
      "text/plain": "(1223, 4)"
     },
     "execution_count": 45,
     "metadata": {},
     "output_type": "execute_result"
    },
    {
     "data": {
      "text/plain": "(91224, 8)"
     },
     "execution_count": 45,
     "metadata": {},
     "output_type": "execute_result"
    },
    {
     "data": {
      "text/plain": "(2278, 2)"
     },
     "execution_count": 45,
     "metadata": {},
     "output_type": "execute_result"
    },
    {
     "data": {
      "text/plain": "(19, 7)"
     },
     "execution_count": 45,
     "metadata": {},
     "output_type": "execute_result"
    },
    {
     "data": {
      "text/plain": "(356, 2)"
     },
     "execution_count": 45,
     "metadata": {},
     "output_type": "execute_result"
    },
    {
     "data": {
      "text/plain": "(1242, 3)"
     },
     "execution_count": 45,
     "metadata": {},
     "output_type": "execute_result"
    }
   ],
   "source": [
    "dfTourneyResults.shape\n",
    "dfTourneySlots.shape\n",
    "dfRegularSeasonResults.shape\n",
    "dfSampleSubmission.shape\n",
    "dfSeasons.shape\n",
    "dfTeams.shape\n",
    "dfTourneySeeds.shape"
   ],
   "metadata": {
    "collapsed": false
   }
  },
  {
   "cell_type": "markdown",
   "source": [
    "Za svaku od 7 tablica sam provjerio koliko ima redaka, te stupaca odnosno atributa"
   ],
   "metadata": {
    "collapsed": false
   }
  },
  {
   "cell_type": "code",
   "execution_count": 46,
   "outputs": [
    {
     "data": {
      "text/plain": "    id         name\n0  501  Abilene Chr\n1  502    Air Force\n2  503        Akron\n3  504      Alabama\n4  505  Alabama A&M",
      "text/html": "<div>\n<style scoped>\n    .dataframe tbody tr th:only-of-type {\n        vertical-align: middle;\n    }\n\n    .dataframe tbody tr th {\n        vertical-align: top;\n    }\n\n    .dataframe thead th {\n        text-align: right;\n    }\n</style>\n<table border=\"1\" class=\"dataframe\">\n  <thead>\n    <tr style=\"text-align: right;\">\n      <th></th>\n      <th>id</th>\n      <th>name</th>\n    </tr>\n  </thead>\n  <tbody>\n    <tr>\n      <th>0</th>\n      <td>501</td>\n      <td>Abilene Chr</td>\n    </tr>\n    <tr>\n      <th>1</th>\n      <td>502</td>\n      <td>Air Force</td>\n    </tr>\n    <tr>\n      <th>2</th>\n      <td>503</td>\n      <td>Akron</td>\n    </tr>\n    <tr>\n      <th>3</th>\n      <td>504</td>\n      <td>Alabama</td>\n    </tr>\n    <tr>\n      <th>4</th>\n      <td>505</td>\n      <td>Alabama A&amp;M</td>\n    </tr>\n  </tbody>\n</table>\n</div>"
     },
     "execution_count": 46,
     "metadata": {},
     "output_type": "execute_result"
    },
    {
     "data": {
      "text/plain": "  season      years     dayzero  regionW    regionX    regionY regionZ\n0      A  1995-1996  10/30/1995     East    Midwest  Southeast    West\n1      B  1996-1997  10/28/1996     East  Southeast    Midwest    West\n2      C  1997-1998  10/27/1997     East       West    Midwest   South\n3      D  1998-1999  10/26/1998     East    Midwest      South    West\n4      E  1999-2000  11/01/1999  Midwest       West       East   South",
      "text/html": "<div>\n<style scoped>\n    .dataframe tbody tr th:only-of-type {\n        vertical-align: middle;\n    }\n\n    .dataframe tbody tr th {\n        vertical-align: top;\n    }\n\n    .dataframe thead th {\n        text-align: right;\n    }\n</style>\n<table border=\"1\" class=\"dataframe\">\n  <thead>\n    <tr style=\"text-align: right;\">\n      <th></th>\n      <th>season</th>\n      <th>years</th>\n      <th>dayzero</th>\n      <th>regionW</th>\n      <th>regionX</th>\n      <th>regionY</th>\n      <th>regionZ</th>\n    </tr>\n  </thead>\n  <tbody>\n    <tr>\n      <th>0</th>\n      <td>A</td>\n      <td>1995-1996</td>\n      <td>10/30/1995</td>\n      <td>East</td>\n      <td>Midwest</td>\n      <td>Southeast</td>\n      <td>West</td>\n    </tr>\n    <tr>\n      <th>1</th>\n      <td>B</td>\n      <td>1996-1997</td>\n      <td>10/28/1996</td>\n      <td>East</td>\n      <td>Southeast</td>\n      <td>Midwest</td>\n      <td>West</td>\n    </tr>\n    <tr>\n      <th>2</th>\n      <td>C</td>\n      <td>1997-1998</td>\n      <td>10/27/1997</td>\n      <td>East</td>\n      <td>West</td>\n      <td>Midwest</td>\n      <td>South</td>\n    </tr>\n    <tr>\n      <th>3</th>\n      <td>D</td>\n      <td>1998-1999</td>\n      <td>10/26/1998</td>\n      <td>East</td>\n      <td>Midwest</td>\n      <td>South</td>\n      <td>West</td>\n    </tr>\n    <tr>\n      <th>4</th>\n      <td>E</td>\n      <td>1999-2000</td>\n      <td>11/01/1999</td>\n      <td>Midwest</td>\n      <td>West</td>\n      <td>East</td>\n      <td>South</td>\n    </tr>\n  </tbody>\n</table>\n</div>"
     },
     "execution_count": 46,
     "metadata": {},
     "output_type": "execute_result"
    },
    {
     "data": {
      "text/plain": "  season  daynum  wteam  wscore  lteam  lscore  numot\n0      A     136    515      86    729      80    NaN\n1      A     136    559      68    555      59    NaN\n2      A     136    576      75    666      63    NaN\n3      A     136    581      75    577      60    NaN\n4      A     136    604      81    551      74    NaN",
      "text/html": "<div>\n<style scoped>\n    .dataframe tbody tr th:only-of-type {\n        vertical-align: middle;\n    }\n\n    .dataframe tbody tr th {\n        vertical-align: top;\n    }\n\n    .dataframe thead th {\n        text-align: right;\n    }\n</style>\n<table border=\"1\" class=\"dataframe\">\n  <thead>\n    <tr style=\"text-align: right;\">\n      <th></th>\n      <th>season</th>\n      <th>daynum</th>\n      <th>wteam</th>\n      <th>wscore</th>\n      <th>lteam</th>\n      <th>lscore</th>\n      <th>numot</th>\n    </tr>\n  </thead>\n  <tbody>\n    <tr>\n      <th>0</th>\n      <td>A</td>\n      <td>136</td>\n      <td>515</td>\n      <td>86</td>\n      <td>729</td>\n      <td>80</td>\n      <td>NaN</td>\n    </tr>\n    <tr>\n      <th>1</th>\n      <td>A</td>\n      <td>136</td>\n      <td>559</td>\n      <td>68</td>\n      <td>555</td>\n      <td>59</td>\n      <td>NaN</td>\n    </tr>\n    <tr>\n      <th>2</th>\n      <td>A</td>\n      <td>136</td>\n      <td>576</td>\n      <td>75</td>\n      <td>666</td>\n      <td>63</td>\n      <td>NaN</td>\n    </tr>\n    <tr>\n      <th>3</th>\n      <td>A</td>\n      <td>136</td>\n      <td>581</td>\n      <td>75</td>\n      <td>577</td>\n      <td>60</td>\n      <td>NaN</td>\n    </tr>\n    <tr>\n      <th>4</th>\n      <td>A</td>\n      <td>136</td>\n      <td>604</td>\n      <td>81</td>\n      <td>551</td>\n      <td>74</td>\n      <td>NaN</td>\n    </tr>\n  </tbody>\n</table>\n</div>"
     },
     "execution_count": 46,
     "metadata": {},
     "output_type": "execute_result"
    },
    {
     "data": {
      "text/plain": "  season  slot strongseed weakseed\n0      A  R1W1        W01      W16\n1      A  R1W2        W02      W15\n2      A  R1W3        W03      W14\n3      A  R1W4        W04      W13\n4      A  R1W5        W05      W12",
      "text/html": "<div>\n<style scoped>\n    .dataframe tbody tr th:only-of-type {\n        vertical-align: middle;\n    }\n\n    .dataframe tbody tr th {\n        vertical-align: top;\n    }\n\n    .dataframe thead th {\n        text-align: right;\n    }\n</style>\n<table border=\"1\" class=\"dataframe\">\n  <thead>\n    <tr style=\"text-align: right;\">\n      <th></th>\n      <th>season</th>\n      <th>slot</th>\n      <th>strongseed</th>\n      <th>weakseed</th>\n    </tr>\n  </thead>\n  <tbody>\n    <tr>\n      <th>0</th>\n      <td>A</td>\n      <td>R1W1</td>\n      <td>W01</td>\n      <td>W16</td>\n    </tr>\n    <tr>\n      <th>1</th>\n      <td>A</td>\n      <td>R1W2</td>\n      <td>W02</td>\n      <td>W15</td>\n    </tr>\n    <tr>\n      <th>2</th>\n      <td>A</td>\n      <td>R1W3</td>\n      <td>W03</td>\n      <td>W14</td>\n    </tr>\n    <tr>\n      <th>3</th>\n      <td>A</td>\n      <td>R1W4</td>\n      <td>W04</td>\n      <td>W13</td>\n    </tr>\n    <tr>\n      <th>4</th>\n      <td>A</td>\n      <td>R1W5</td>\n      <td>W05</td>\n      <td>W12</td>\n    </tr>\n  </tbody>\n</table>\n</div>"
     },
     "execution_count": 46,
     "metadata": {},
     "output_type": "execute_result"
    },
    {
     "data": {
      "text/plain": "  season  daynum  wteam  wscore  lteam  lscore wloc  numot\n0      A      16    511      91    647      57    H    NaN\n1      A      16    515      75    812      67    H    NaN\n2      A      16    606      87    658      67    H    NaN\n3      A      16    670      73    573      65    H    NaN\n4      A      16    721      99    632      68    H    NaN",
      "text/html": "<div>\n<style scoped>\n    .dataframe tbody tr th:only-of-type {\n        vertical-align: middle;\n    }\n\n    .dataframe tbody tr th {\n        vertical-align: top;\n    }\n\n    .dataframe thead th {\n        text-align: right;\n    }\n</style>\n<table border=\"1\" class=\"dataframe\">\n  <thead>\n    <tr style=\"text-align: right;\">\n      <th></th>\n      <th>season</th>\n      <th>daynum</th>\n      <th>wteam</th>\n      <th>wscore</th>\n      <th>lteam</th>\n      <th>lscore</th>\n      <th>wloc</th>\n      <th>numot</th>\n    </tr>\n  </thead>\n  <tbody>\n    <tr>\n      <th>0</th>\n      <td>A</td>\n      <td>16</td>\n      <td>511</td>\n      <td>91</td>\n      <td>647</td>\n      <td>57</td>\n      <td>H</td>\n      <td>NaN</td>\n    </tr>\n    <tr>\n      <th>1</th>\n      <td>A</td>\n      <td>16</td>\n      <td>515</td>\n      <td>75</td>\n      <td>812</td>\n      <td>67</td>\n      <td>H</td>\n      <td>NaN</td>\n    </tr>\n    <tr>\n      <th>2</th>\n      <td>A</td>\n      <td>16</td>\n      <td>606</td>\n      <td>87</td>\n      <td>658</td>\n      <td>67</td>\n      <td>H</td>\n      <td>NaN</td>\n    </tr>\n    <tr>\n      <th>3</th>\n      <td>A</td>\n      <td>16</td>\n      <td>670</td>\n      <td>73</td>\n      <td>573</td>\n      <td>65</td>\n      <td>H</td>\n      <td>NaN</td>\n    </tr>\n    <tr>\n      <th>4</th>\n      <td>A</td>\n      <td>16</td>\n      <td>721</td>\n      <td>99</td>\n      <td>632</td>\n      <td>68</td>\n      <td>H</td>\n      <td>NaN</td>\n    </tr>\n  </tbody>\n</table>\n</div>"
     },
     "execution_count": 46,
     "metadata": {},
     "output_type": "execute_result"
    },
    {
     "data": {
      "text/plain": "          id  pred\n0  S_507_509     0\n1  S_507_511     0\n2  S_507_512     0\n3  S_507_521     0\n4  S_507_536     0",
      "text/html": "<div>\n<style scoped>\n    .dataframe tbody tr th:only-of-type {\n        vertical-align: middle;\n    }\n\n    .dataframe tbody tr th {\n        vertical-align: top;\n    }\n\n    .dataframe thead th {\n        text-align: right;\n    }\n</style>\n<table border=\"1\" class=\"dataframe\">\n  <thead>\n    <tr style=\"text-align: right;\">\n      <th></th>\n      <th>id</th>\n      <th>pred</th>\n    </tr>\n  </thead>\n  <tbody>\n    <tr>\n      <th>0</th>\n      <td>S_507_509</td>\n      <td>0</td>\n    </tr>\n    <tr>\n      <th>1</th>\n      <td>S_507_511</td>\n      <td>0</td>\n    </tr>\n    <tr>\n      <th>2</th>\n      <td>S_507_512</td>\n      <td>0</td>\n    </tr>\n    <tr>\n      <th>3</th>\n      <td>S_507_521</td>\n      <td>0</td>\n    </tr>\n    <tr>\n      <th>4</th>\n      <td>S_507_536</td>\n      <td>0</td>\n    </tr>\n  </tbody>\n</table>\n</div>"
     },
     "execution_count": 46,
     "metadata": {},
     "output_type": "execute_result"
    },
    {
     "data": {
      "text/plain": "  season seed  team\n0      A  W01   663\n1      A  W02   603\n2      A  W03   796\n3      A  W04   660\n4      A  W05   729",
      "text/html": "<div>\n<style scoped>\n    .dataframe tbody tr th:only-of-type {\n        vertical-align: middle;\n    }\n\n    .dataframe tbody tr th {\n        vertical-align: top;\n    }\n\n    .dataframe thead th {\n        text-align: right;\n    }\n</style>\n<table border=\"1\" class=\"dataframe\">\n  <thead>\n    <tr style=\"text-align: right;\">\n      <th></th>\n      <th>season</th>\n      <th>seed</th>\n      <th>team</th>\n    </tr>\n  </thead>\n  <tbody>\n    <tr>\n      <th>0</th>\n      <td>A</td>\n      <td>W01</td>\n      <td>663</td>\n    </tr>\n    <tr>\n      <th>1</th>\n      <td>A</td>\n      <td>W02</td>\n      <td>603</td>\n    </tr>\n    <tr>\n      <th>2</th>\n      <td>A</td>\n      <td>W03</td>\n      <td>796</td>\n    </tr>\n    <tr>\n      <th>3</th>\n      <td>A</td>\n      <td>W04</td>\n      <td>660</td>\n    </tr>\n    <tr>\n      <th>4</th>\n      <td>A</td>\n      <td>W05</td>\n      <td>729</td>\n    </tr>\n  </tbody>\n</table>\n</div>"
     },
     "execution_count": 46,
     "metadata": {},
     "output_type": "execute_result"
    }
   ],
   "source": [
    "dfTeams.head()\n",
    "dfSeasons.head()\n",
    "dfTourneyResults.head()\n",
    "dfTourneySlots.head()\n",
    "dfRegularSeasonResults.head()\n",
    "dfSampleSubmission.head()\n",
    "dfTourneySeeds.head()"
   ],
   "metadata": {
    "collapsed": false
   }
  },
  {
   "cell_type": "markdown",
   "source": [
    "Za svaku od 7 tablica sam provjerio kako izgleda head dio tablice"
   ],
   "metadata": {
    "collapsed": false
   }
  },
  {
   "cell_type": "code",
   "execution_count": 47,
   "outputs": [
    {
     "data": {
      "text/plain": "array(['id', 'name'], dtype=object)"
     },
     "execution_count": 47,
     "metadata": {},
     "output_type": "execute_result"
    },
    {
     "data": {
      "text/plain": "array(['season', 'years', 'dayzero', 'regionW', 'regionX', 'regionY',\n       'regionZ'], dtype=object)"
     },
     "execution_count": 47,
     "metadata": {},
     "output_type": "execute_result"
    },
    {
     "data": {
      "text/plain": "array(['season', 'daynum', 'wteam', 'wscore', 'lteam', 'lscore', 'numot'],\n      dtype=object)"
     },
     "execution_count": 47,
     "metadata": {},
     "output_type": "execute_result"
    },
    {
     "data": {
      "text/plain": "array(['season', 'slot', 'strongseed', 'weakseed'], dtype=object)"
     },
     "execution_count": 47,
     "metadata": {},
     "output_type": "execute_result"
    },
    {
     "data": {
      "text/plain": "array(['season', 'daynum', 'wteam', 'wscore', 'lteam', 'lscore', 'wloc',\n       'numot'], dtype=object)"
     },
     "execution_count": 47,
     "metadata": {},
     "output_type": "execute_result"
    },
    {
     "data": {
      "text/plain": "array(['id', 'pred'], dtype=object)"
     },
     "execution_count": 47,
     "metadata": {},
     "output_type": "execute_result"
    },
    {
     "data": {
      "text/plain": "array(['season', 'seed', 'team'], dtype=object)"
     },
     "execution_count": 47,
     "metadata": {},
     "output_type": "execute_result"
    }
   ],
   "source": [
    "dfTeams.columns.values\n",
    "dfSeasons.columns.values\n",
    "dfTourneyResults.columns.values\n",
    "dfTourneySlots.columns.values\n",
    "dfRegularSeasonResults.columns.values\n",
    "dfSampleSubmission.columns.values\n",
    "dfTourneySeeds.columns.values"
   ],
   "metadata": {
    "collapsed": false
   }
  },
  {
   "cell_type": "markdown",
   "source": [
    "Prikazani su nazivi svih atributa"
   ],
   "metadata": {
    "collapsed": false
   }
  },
  {
   "cell_type": "markdown",
   "source": [],
   "metadata": {
    "collapsed": false
   }
  },
  {
   "cell_type": "code",
   "execution_count": 48,
   "outputs": [
    {
     "data": {
      "text/plain": "               id\ncount  356.000000\nmean   678.500000\nstd    102.912584\nmin    501.000000\n25%    589.750000\n50%    678.500000\n75%    767.250000\nmax    856.000000",
      "text/html": "<div>\n<style scoped>\n    .dataframe tbody tr th:only-of-type {\n        vertical-align: middle;\n    }\n\n    .dataframe tbody tr th {\n        vertical-align: top;\n    }\n\n    .dataframe thead th {\n        text-align: right;\n    }\n</style>\n<table border=\"1\" class=\"dataframe\">\n  <thead>\n    <tr style=\"text-align: right;\">\n      <th></th>\n      <th>id</th>\n    </tr>\n  </thead>\n  <tbody>\n    <tr>\n      <th>count</th>\n      <td>356.000000</td>\n    </tr>\n    <tr>\n      <th>mean</th>\n      <td>678.500000</td>\n    </tr>\n    <tr>\n      <th>std</th>\n      <td>102.912584</td>\n    </tr>\n    <tr>\n      <th>min</th>\n      <td>501.000000</td>\n    </tr>\n    <tr>\n      <th>25%</th>\n      <td>589.750000</td>\n    </tr>\n    <tr>\n      <th>50%</th>\n      <td>678.500000</td>\n    </tr>\n    <tr>\n      <th>75%</th>\n      <td>767.250000</td>\n    </tr>\n    <tr>\n      <th>max</th>\n      <td>856.000000</td>\n    </tr>\n  </tbody>\n</table>\n</div>"
     },
     "execution_count": 48,
     "metadata": {},
     "output_type": "execute_result"
    },
    {
     "data": {
      "text/plain": "       season      years     dayzero regionW regionX  regionY regionZ\ncount      19         19          19      19      19       19      19\nunique     19         19          19       4       7        7       6\ntop         A  1995-1996  10/30/1995    East   South  Midwest    West\nfreq        1          1           1      15       6        9      12",
      "text/html": "<div>\n<style scoped>\n    .dataframe tbody tr th:only-of-type {\n        vertical-align: middle;\n    }\n\n    .dataframe tbody tr th {\n        vertical-align: top;\n    }\n\n    .dataframe thead th {\n        text-align: right;\n    }\n</style>\n<table border=\"1\" class=\"dataframe\">\n  <thead>\n    <tr style=\"text-align: right;\">\n      <th></th>\n      <th>season</th>\n      <th>years</th>\n      <th>dayzero</th>\n      <th>regionW</th>\n      <th>regionX</th>\n      <th>regionY</th>\n      <th>regionZ</th>\n    </tr>\n  </thead>\n  <tbody>\n    <tr>\n      <th>count</th>\n      <td>19</td>\n      <td>19</td>\n      <td>19</td>\n      <td>19</td>\n      <td>19</td>\n      <td>19</td>\n      <td>19</td>\n    </tr>\n    <tr>\n      <th>unique</th>\n      <td>19</td>\n      <td>19</td>\n      <td>19</td>\n      <td>4</td>\n      <td>7</td>\n      <td>7</td>\n      <td>6</td>\n    </tr>\n    <tr>\n      <th>top</th>\n      <td>A</td>\n      <td>1995-1996</td>\n      <td>10/30/1995</td>\n      <td>East</td>\n      <td>South</td>\n      <td>Midwest</td>\n      <td>West</td>\n    </tr>\n    <tr>\n      <th>freq</th>\n      <td>1</td>\n      <td>1</td>\n      <td>1</td>\n      <td>15</td>\n      <td>6</td>\n      <td>9</td>\n      <td>12</td>\n    </tr>\n  </tbody>\n</table>\n</div>"
     },
     "execution_count": 48,
     "metadata": {},
     "output_type": "execute_result"
    },
    {
     "data": {
      "text/plain": "            daynum        wteam       wscore        lteam       lscore  \\\ncount  1156.000000  1156.000000  1156.000000  1156.000000  1156.000000   \nmean    139.143599   682.515571    75.549308   686.699827    63.667820   \nstd       4.213580    98.684397    10.941410   103.201450    10.567058   \nmin     134.000000   504.000000    43.000000   502.000000    29.000000   \n25%     136.000000   606.000000    68.000000   603.750000    57.000000   \n50%     137.000000   671.000000    75.000000   681.500000    63.000000   \n75%     139.000000   783.000000    82.000000   783.000000    70.000000   \nmax     154.000000   853.000000   121.000000   853.000000   105.000000   \n\n            numot  \ncount  585.000000  \nmean     0.075214  \nstd      0.311565  \nmin      0.000000  \n25%      0.000000  \n50%      0.000000  \n75%      0.000000  \nmax      2.000000  ",
      "text/html": "<div>\n<style scoped>\n    .dataframe tbody tr th:only-of-type {\n        vertical-align: middle;\n    }\n\n    .dataframe tbody tr th {\n        vertical-align: top;\n    }\n\n    .dataframe thead th {\n        text-align: right;\n    }\n</style>\n<table border=\"1\" class=\"dataframe\">\n  <thead>\n    <tr style=\"text-align: right;\">\n      <th></th>\n      <th>daynum</th>\n      <th>wteam</th>\n      <th>wscore</th>\n      <th>lteam</th>\n      <th>lscore</th>\n      <th>numot</th>\n    </tr>\n  </thead>\n  <tbody>\n    <tr>\n      <th>count</th>\n      <td>1156.000000</td>\n      <td>1156.000000</td>\n      <td>1156.000000</td>\n      <td>1156.000000</td>\n      <td>1156.000000</td>\n      <td>585.000000</td>\n    </tr>\n    <tr>\n      <th>mean</th>\n      <td>139.143599</td>\n      <td>682.515571</td>\n      <td>75.549308</td>\n      <td>686.699827</td>\n      <td>63.667820</td>\n      <td>0.075214</td>\n    </tr>\n    <tr>\n      <th>std</th>\n      <td>4.213580</td>\n      <td>98.684397</td>\n      <td>10.941410</td>\n      <td>103.201450</td>\n      <td>10.567058</td>\n      <td>0.311565</td>\n    </tr>\n    <tr>\n      <th>min</th>\n      <td>134.000000</td>\n      <td>504.000000</td>\n      <td>43.000000</td>\n      <td>502.000000</td>\n      <td>29.000000</td>\n      <td>0.000000</td>\n    </tr>\n    <tr>\n      <th>25%</th>\n      <td>136.000000</td>\n      <td>606.000000</td>\n      <td>68.000000</td>\n      <td>603.750000</td>\n      <td>57.000000</td>\n      <td>0.000000</td>\n    </tr>\n    <tr>\n      <th>50%</th>\n      <td>137.000000</td>\n      <td>671.000000</td>\n      <td>75.000000</td>\n      <td>681.500000</td>\n      <td>63.000000</td>\n      <td>0.000000</td>\n    </tr>\n    <tr>\n      <th>75%</th>\n      <td>139.000000</td>\n      <td>783.000000</td>\n      <td>82.000000</td>\n      <td>783.000000</td>\n      <td>70.000000</td>\n      <td>0.000000</td>\n    </tr>\n    <tr>\n      <th>max</th>\n      <td>154.000000</td>\n      <td>853.000000</td>\n      <td>121.000000</td>\n      <td>853.000000</td>\n      <td>105.000000</td>\n      <td>2.000000</td>\n    </tr>\n  </tbody>\n</table>\n</div>"
     },
     "execution_count": 48,
     "metadata": {},
     "output_type": "execute_result"
    },
    {
     "data": {
      "text/plain": "       season  slot strongseed weakseed\ncount    1223  1223       1223     1223\nunique     19    74         74       74\ntop         S  R1W1        W01      W16\nfreq       67    19         19       19",
      "text/html": "<div>\n<style scoped>\n    .dataframe tbody tr th:only-of-type {\n        vertical-align: middle;\n    }\n\n    .dataframe tbody tr th {\n        vertical-align: top;\n    }\n\n    .dataframe thead th {\n        text-align: right;\n    }\n</style>\n<table border=\"1\" class=\"dataframe\">\n  <thead>\n    <tr style=\"text-align: right;\">\n      <th></th>\n      <th>season</th>\n      <th>slot</th>\n      <th>strongseed</th>\n      <th>weakseed</th>\n    </tr>\n  </thead>\n  <tbody>\n    <tr>\n      <th>count</th>\n      <td>1223</td>\n      <td>1223</td>\n      <td>1223</td>\n      <td>1223</td>\n    </tr>\n    <tr>\n      <th>unique</th>\n      <td>19</td>\n      <td>74</td>\n      <td>74</td>\n      <td>74</td>\n    </tr>\n    <tr>\n      <th>top</th>\n      <td>S</td>\n      <td>R1W1</td>\n      <td>W01</td>\n      <td>W16</td>\n    </tr>\n    <tr>\n      <th>freq</th>\n      <td>67</td>\n      <td>19</td>\n      <td>19</td>\n      <td>19</td>\n    </tr>\n  </tbody>\n</table>\n</div>"
     },
     "execution_count": 48,
     "metadata": {},
     "output_type": "execute_result"
    },
    {
     "data": {
      "text/plain": "             daynum         wteam        wscore         lteam        lscore  \\\ncount  91224.000000  91224.000000  91224.000000  91224.000000  91224.000000   \nmean      73.410133    680.981058     75.370440    677.047400     63.208860   \nstd       34.210997    103.099502     11.408528    102.950054     10.940295   \nmin        0.000000    501.000000     34.000000    501.000000     20.000000   \n25%       44.000000    592.000000     68.000000    587.000000     56.000000   \n50%       75.000000    678.000000     75.000000    675.000000     63.000000   \n75%      103.000000    772.000000     83.000000    768.000000     70.000000   \nmax      133.000000    856.000000    153.000000    856.000000    140.000000   \n\n              numot  \ncount  51333.000000  \nmean       0.072000  \nstd        0.313278  \nmin        0.000000  \n25%        0.000000  \n50%        0.000000  \n75%        0.000000  \nmax        6.000000  ",
      "text/html": "<div>\n<style scoped>\n    .dataframe tbody tr th:only-of-type {\n        vertical-align: middle;\n    }\n\n    .dataframe tbody tr th {\n        vertical-align: top;\n    }\n\n    .dataframe thead th {\n        text-align: right;\n    }\n</style>\n<table border=\"1\" class=\"dataframe\">\n  <thead>\n    <tr style=\"text-align: right;\">\n      <th></th>\n      <th>daynum</th>\n      <th>wteam</th>\n      <th>wscore</th>\n      <th>lteam</th>\n      <th>lscore</th>\n      <th>numot</th>\n    </tr>\n  </thead>\n  <tbody>\n    <tr>\n      <th>count</th>\n      <td>91224.000000</td>\n      <td>91224.000000</td>\n      <td>91224.000000</td>\n      <td>91224.000000</td>\n      <td>91224.000000</td>\n      <td>51333.000000</td>\n    </tr>\n    <tr>\n      <th>mean</th>\n      <td>73.410133</td>\n      <td>680.981058</td>\n      <td>75.370440</td>\n      <td>677.047400</td>\n      <td>63.208860</td>\n      <td>0.072000</td>\n    </tr>\n    <tr>\n      <th>std</th>\n      <td>34.210997</td>\n      <td>103.099502</td>\n      <td>11.408528</td>\n      <td>102.950054</td>\n      <td>10.940295</td>\n      <td>0.313278</td>\n    </tr>\n    <tr>\n      <th>min</th>\n      <td>0.000000</td>\n      <td>501.000000</td>\n      <td>34.000000</td>\n      <td>501.000000</td>\n      <td>20.000000</td>\n      <td>0.000000</td>\n    </tr>\n    <tr>\n      <th>25%</th>\n      <td>44.000000</td>\n      <td>592.000000</td>\n      <td>68.000000</td>\n      <td>587.000000</td>\n      <td>56.000000</td>\n      <td>0.000000</td>\n    </tr>\n    <tr>\n      <th>50%</th>\n      <td>75.000000</td>\n      <td>678.000000</td>\n      <td>75.000000</td>\n      <td>675.000000</td>\n      <td>63.000000</td>\n      <td>0.000000</td>\n    </tr>\n    <tr>\n      <th>75%</th>\n      <td>103.000000</td>\n      <td>772.000000</td>\n      <td>83.000000</td>\n      <td>768.000000</td>\n      <td>70.000000</td>\n      <td>0.000000</td>\n    </tr>\n    <tr>\n      <th>max</th>\n      <td>133.000000</td>\n      <td>856.000000</td>\n      <td>153.000000</td>\n      <td>856.000000</td>\n      <td>140.000000</td>\n      <td>6.000000</td>\n    </tr>\n  </tbody>\n</table>\n</div>"
     },
     "execution_count": 48,
     "metadata": {},
     "output_type": "execute_result"
    },
    {
     "data": {
      "text/plain": "         pred\ncount  2278.0\nmean      0.0\nstd       0.0\nmin       0.0\n25%       0.0\n50%       0.0\n75%       0.0\nmax       0.0",
      "text/html": "<div>\n<style scoped>\n    .dataframe tbody tr th:only-of-type {\n        vertical-align: middle;\n    }\n\n    .dataframe tbody tr th {\n        vertical-align: top;\n    }\n\n    .dataframe thead th {\n        text-align: right;\n    }\n</style>\n<table border=\"1\" class=\"dataframe\">\n  <thead>\n    <tr style=\"text-align: right;\">\n      <th></th>\n      <th>pred</th>\n    </tr>\n  </thead>\n  <tbody>\n    <tr>\n      <th>count</th>\n      <td>2278.0</td>\n    </tr>\n    <tr>\n      <th>mean</th>\n      <td>0.0</td>\n    </tr>\n    <tr>\n      <th>std</th>\n      <td>0.0</td>\n    </tr>\n    <tr>\n      <th>min</th>\n      <td>0.0</td>\n    </tr>\n    <tr>\n      <th>25%</th>\n      <td>0.0</td>\n    </tr>\n    <tr>\n      <th>50%</th>\n      <td>0.0</td>\n    </tr>\n    <tr>\n      <th>75%</th>\n      <td>0.0</td>\n    </tr>\n    <tr>\n      <th>max</th>\n      <td>0.0</td>\n    </tr>\n  </tbody>\n</table>\n</div>"
     },
     "execution_count": 48,
     "metadata": {},
     "output_type": "execute_result"
    },
    {
     "data": {
      "text/plain": "              team\ncount  1242.000000\nmean    685.844605\nstd     103.133122\nmin     502.000000\n25%     603.000000\n50%     680.000000\n75%     783.000000\nmax     853.000000",
      "text/html": "<div>\n<style scoped>\n    .dataframe tbody tr th:only-of-type {\n        vertical-align: middle;\n    }\n\n    .dataframe tbody tr th {\n        vertical-align: top;\n    }\n\n    .dataframe thead th {\n        text-align: right;\n    }\n</style>\n<table border=\"1\" class=\"dataframe\">\n  <thead>\n    <tr style=\"text-align: right;\">\n      <th></th>\n      <th>team</th>\n    </tr>\n  </thead>\n  <tbody>\n    <tr>\n      <th>count</th>\n      <td>1242.000000</td>\n    </tr>\n    <tr>\n      <th>mean</th>\n      <td>685.844605</td>\n    </tr>\n    <tr>\n      <th>std</th>\n      <td>103.133122</td>\n    </tr>\n    <tr>\n      <th>min</th>\n      <td>502.000000</td>\n    </tr>\n    <tr>\n      <th>25%</th>\n      <td>603.000000</td>\n    </tr>\n    <tr>\n      <th>50%</th>\n      <td>680.000000</td>\n    </tr>\n    <tr>\n      <th>75%</th>\n      <td>783.000000</td>\n    </tr>\n    <tr>\n      <th>max</th>\n      <td>853.000000</td>\n    </tr>\n  </tbody>\n</table>\n</div>"
     },
     "execution_count": 48,
     "metadata": {},
     "output_type": "execute_result"
    }
   ],
   "source": [
    "dfTeams.describe()\n",
    "dfSeasons.describe()\n",
    "dfTourneyResults.describe()\n",
    "dfTourneySlots.describe()\n",
    "dfRegularSeasonResults.describe()\n",
    "dfSampleSubmission.describe()\n",
    "dfTourneySeeds.describe()"
   ],
   "metadata": {
    "collapsed": false
   }
  },
  {
   "cell_type": "markdown",
   "source": [
    "S .describe() funkcijom je prikazana deskriptivna statistika svakog data framea, iz nje je vidljivo da nema kandidata za stršeće vrijednosti"
   ],
   "metadata": {
    "collapsed": false
   }
  },
  {
   "cell_type": "code",
   "execution_count": 49,
   "outputs": [
    {
     "data": {
      "text/plain": "id      356\nname    356\ndtype: int64"
     },
     "execution_count": 49,
     "metadata": {},
     "output_type": "execute_result"
    },
    {
     "data": {
      "text/plain": "season     19\nyears      19\ndayzero    19\nregionW     4\nregionX     7\nregionY     7\nregionZ     6\ndtype: int64"
     },
     "execution_count": 49,
     "metadata": {},
     "output_type": "execute_result"
    },
    {
     "data": {
      "text/plain": "season     18\ndaynum     12\nwteam     155\nwscore     67\nlteam     258\nlscore     66\nnumot       3\ndtype: int64"
     },
     "execution_count": 49,
     "metadata": {},
     "output_type": "execute_result"
    },
    {
     "data": {
      "text/plain": "season        19\nslot          74\nstrongseed    74\nweakseed      74\ndtype: int64"
     },
     "execution_count": 49,
     "metadata": {},
     "output_type": "execute_result"
    },
    {
     "data": {
      "text/plain": "season     19\ndaynum    134\nwteam     356\nwscore    108\nlteam     356\nlscore    104\nwloc        3\nnumot       7\ndtype: int64"
     },
     "execution_count": 49,
     "metadata": {},
     "output_type": "execute_result"
    },
    {
     "data": {
      "text/plain": "id      2278\npred       1\ndtype: int64"
     },
     "execution_count": 49,
     "metadata": {},
     "output_type": "execute_result"
    },
    {
     "data": {
      "text/plain": "season     19\nseed       86\nteam      262\ndtype: int64"
     },
     "execution_count": 49,
     "metadata": {},
     "output_type": "execute_result"
    }
   ],
   "source": [
    "dfTeams.nunique()\n",
    "dfSeasons.nunique()\n",
    "dfTourneyResults.nunique()\n",
    "dfTourneySlots.nunique()\n",
    "dfRegularSeasonResults.nunique()\n",
    "dfSampleSubmission.nunique()\n",
    "dfTourneySeeds.nunique()"
   ],
   "metadata": {
    "collapsed": false
   }
  },
  {
   "cell_type": "markdown",
   "source": [
    "Iz prvog data framea je vidljivo da je id od teama je monoton te bi ga trebalo ukloniti no potreban je za kasnije joinanje s drugim tablicama"
   ],
   "metadata": {
    "collapsed": false
   }
  },
  {
   "cell_type": "code",
   "execution_count": 50,
   "outputs": [
    {
     "name": "stdout",
     "output_type": "stream",
     "text": [
      "<class 'pandas.core.frame.DataFrame'>\n",
      "RangeIndex: 356 entries, 0 to 355\n",
      "Data columns (total 2 columns):\n",
      " #   Column  Non-Null Count  Dtype \n",
      "---  ------  --------------  ----- \n",
      " 0   id      356 non-null    int64 \n",
      " 1   name    356 non-null    object\n",
      "dtypes: int64(1), object(1)\n",
      "memory usage: 5.7+ KB\n",
      "<class 'pandas.core.frame.DataFrame'>\n",
      "RangeIndex: 19 entries, 0 to 18\n",
      "Data columns (total 7 columns):\n",
      " #   Column   Non-Null Count  Dtype \n",
      "---  ------   --------------  ----- \n",
      " 0   season   19 non-null     object\n",
      " 1   years    19 non-null     object\n",
      " 2   dayzero  19 non-null     object\n",
      " 3   regionW  19 non-null     object\n",
      " 4   regionX  19 non-null     object\n",
      " 5   regionY  19 non-null     object\n",
      " 6   regionZ  19 non-null     object\n",
      "dtypes: object(7)\n",
      "memory usage: 1.2+ KB\n",
      "<class 'pandas.core.frame.DataFrame'>\n",
      "RangeIndex: 1156 entries, 0 to 1155\n",
      "Data columns (total 7 columns):\n",
      " #   Column  Non-Null Count  Dtype  \n",
      "---  ------  --------------  -----  \n",
      " 0   season  1156 non-null   object \n",
      " 1   daynum  1156 non-null   int64  \n",
      " 2   wteam   1156 non-null   int64  \n",
      " 3   wscore  1156 non-null   int64  \n",
      " 4   lteam   1156 non-null   int64  \n",
      " 5   lscore  1156 non-null   int64  \n",
      " 6   numot   585 non-null    float64\n",
      "dtypes: float64(1), int64(5), object(1)\n",
      "memory usage: 63.3+ KB\n",
      "<class 'pandas.core.frame.DataFrame'>\n",
      "RangeIndex: 1223 entries, 0 to 1222\n",
      "Data columns (total 4 columns):\n",
      " #   Column      Non-Null Count  Dtype \n",
      "---  ------      --------------  ----- \n",
      " 0   season      1223 non-null   object\n",
      " 1   slot        1223 non-null   object\n",
      " 2   strongseed  1223 non-null   object\n",
      " 3   weakseed    1223 non-null   object\n",
      "dtypes: object(4)\n",
      "memory usage: 38.3+ KB\n",
      "<class 'pandas.core.frame.DataFrame'>\n",
      "RangeIndex: 91224 entries, 0 to 91223\n",
      "Data columns (total 8 columns):\n",
      " #   Column  Non-Null Count  Dtype  \n",
      "---  ------  --------------  -----  \n",
      " 0   season  91224 non-null  object \n",
      " 1   daynum  91224 non-null  int64  \n",
      " 2   wteam   91224 non-null  int64  \n",
      " 3   wscore  91224 non-null  int64  \n",
      " 4   lteam   91224 non-null  int64  \n",
      " 5   lscore  91224 non-null  int64  \n",
      " 6   wloc    91224 non-null  object \n",
      " 7   numot   51333 non-null  float64\n",
      "dtypes: float64(1), int64(5), object(2)\n",
      "memory usage: 5.6+ MB\n",
      "<class 'pandas.core.frame.DataFrame'>\n",
      "RangeIndex: 2278 entries, 0 to 2277\n",
      "Data columns (total 2 columns):\n",
      " #   Column  Non-Null Count  Dtype \n",
      "---  ------  --------------  ----- \n",
      " 0   id      2278 non-null   object\n",
      " 1   pred    2278 non-null   int64 \n",
      "dtypes: int64(1), object(1)\n",
      "memory usage: 35.7+ KB\n",
      "<class 'pandas.core.frame.DataFrame'>\n",
      "RangeIndex: 1242 entries, 0 to 1241\n",
      "Data columns (total 3 columns):\n",
      " #   Column  Non-Null Count  Dtype \n",
      "---  ------  --------------  ----- \n",
      " 0   season  1242 non-null   object\n",
      " 1   seed    1242 non-null   object\n",
      " 2   team    1242 non-null   int64 \n",
      "dtypes: int64(1), object(2)\n",
      "memory usage: 29.2+ KB\n"
     ]
    }
   ],
   "source": [
    "dfTeams.info()\n",
    "dfSeasons.info()\n",
    "dfTourneyResults.info()\n",
    "dfTourneySlots.info()\n",
    "dfRegularSeasonResults.info()\n",
    "dfSampleSubmission.info()\n",
    "dfTourneySeeds.info()"
   ],
   "metadata": {
    "collapsed": false
   }
  },
  {
   "cell_type": "markdown",
   "source": [
    "Prikazane su informacije o svim data frameovima"
   ],
   "metadata": {
    "collapsed": false
   }
  },
  {
   "cell_type": "markdown",
   "source": [],
   "metadata": {
    "collapsed": false
   }
  },
  {
   "cell_type": "code",
   "execution_count": 51,
   "outputs": [
    {
     "data": {
      "text/plain": "id      0\nname    0\ndtype: int64"
     },
     "execution_count": 51,
     "metadata": {},
     "output_type": "execute_result"
    },
    {
     "data": {
      "text/plain": "season     0\nyears      0\ndayzero    0\nregionW    0\nregionX    0\nregionY    0\nregionZ    0\ndtype: int64"
     },
     "execution_count": 51,
     "metadata": {},
     "output_type": "execute_result"
    },
    {
     "data": {
      "text/plain": "season      0\ndaynum      0\nwteam       0\nwscore      0\nlteam       0\nlscore      0\nnumot     571\ndtype: int64"
     },
     "execution_count": 51,
     "metadata": {},
     "output_type": "execute_result"
    },
    {
     "data": {
      "text/plain": "season        0\nslot          0\nstrongseed    0\nweakseed      0\ndtype: int64"
     },
     "execution_count": 51,
     "metadata": {},
     "output_type": "execute_result"
    },
    {
     "data": {
      "text/plain": "season        0\ndaynum        0\nwteam         0\nwscore        0\nlteam         0\nlscore        0\nwloc          0\nnumot     39891\ndtype: int64"
     },
     "execution_count": 51,
     "metadata": {},
     "output_type": "execute_result"
    },
    {
     "data": {
      "text/plain": "id      0\npred    0\ndtype: int64"
     },
     "execution_count": 51,
     "metadata": {},
     "output_type": "execute_result"
    },
    {
     "data": {
      "text/plain": "season    0\nseed      0\nteam      0\ndtype: int64"
     },
     "execution_count": 51,
     "metadata": {},
     "output_type": "execute_result"
    }
   ],
   "source": [
    "dfTeams.isna().sum()\n",
    "dfSeasons.isna().sum()\n",
    "dfTourneyResults.isna().sum()\n",
    "dfTourneySlots.isna().sum()\n",
    "dfRegularSeasonResults.isna().sum()\n",
    "dfSampleSubmission.isna().sum()\n",
    "dfTourneySeeds.isna().sum()"
   ],
   "metadata": {
    "collapsed": false
   }
  },
  {
   "cell_type": "markdown",
   "source": [
    "Vidljivo je da u nedostajuće atribute spada numot(broj produzetaka) u dvije tablice koji je numerički podatak te može biti bitan u kasnijem predviđanju rezultata stoga ćemo ga postaviti na srednju vrijsdnost"
   ],
   "metadata": {
    "collapsed": false
   }
  },
  {
   "cell_type": "code",
   "execution_count": 52,
   "outputs": [
    {
     "data": {
      "text/plain": "season    0\ndaynum    0\nwteam     0\nwscore    0\nlteam     0\nlscore    0\nwloc      0\nnumot     0\ndtype: int64"
     },
     "execution_count": 52,
     "metadata": {},
     "output_type": "execute_result"
    },
    {
     "data": {
      "text/plain": "season    0\ndaynum    0\nwteam     0\nwscore    0\nlteam     0\nlscore    0\nnumot     0\ndtype: int64"
     },
     "execution_count": 52,
     "metadata": {},
     "output_type": "execute_result"
    },
    {
     "data": {
      "text/plain": "  season  daynum  wteam  wscore  lteam  lscore wloc  numot\n0      A      16    511      91    647      57    H  0.072\n1      A      16    515      75    812      67    H  0.072\n2      A      16    606      87    658      67    H  0.072\n3      A      16    670      73    573      65    H  0.072\n4      A      16    721      99    632      68    H  0.072",
      "text/html": "<div>\n<style scoped>\n    .dataframe tbody tr th:only-of-type {\n        vertical-align: middle;\n    }\n\n    .dataframe tbody tr th {\n        vertical-align: top;\n    }\n\n    .dataframe thead th {\n        text-align: right;\n    }\n</style>\n<table border=\"1\" class=\"dataframe\">\n  <thead>\n    <tr style=\"text-align: right;\">\n      <th></th>\n      <th>season</th>\n      <th>daynum</th>\n      <th>wteam</th>\n      <th>wscore</th>\n      <th>lteam</th>\n      <th>lscore</th>\n      <th>wloc</th>\n      <th>numot</th>\n    </tr>\n  </thead>\n  <tbody>\n    <tr>\n      <th>0</th>\n      <td>A</td>\n      <td>16</td>\n      <td>511</td>\n      <td>91</td>\n      <td>647</td>\n      <td>57</td>\n      <td>H</td>\n      <td>0.072</td>\n    </tr>\n    <tr>\n      <th>1</th>\n      <td>A</td>\n      <td>16</td>\n      <td>515</td>\n      <td>75</td>\n      <td>812</td>\n      <td>67</td>\n      <td>H</td>\n      <td>0.072</td>\n    </tr>\n    <tr>\n      <th>2</th>\n      <td>A</td>\n      <td>16</td>\n      <td>606</td>\n      <td>87</td>\n      <td>658</td>\n      <td>67</td>\n      <td>H</td>\n      <td>0.072</td>\n    </tr>\n    <tr>\n      <th>3</th>\n      <td>A</td>\n      <td>16</td>\n      <td>670</td>\n      <td>73</td>\n      <td>573</td>\n      <td>65</td>\n      <td>H</td>\n      <td>0.072</td>\n    </tr>\n    <tr>\n      <th>4</th>\n      <td>A</td>\n      <td>16</td>\n      <td>721</td>\n      <td>99</td>\n      <td>632</td>\n      <td>68</td>\n      <td>H</td>\n      <td>0.072</td>\n    </tr>\n  </tbody>\n</table>\n</div>"
     },
     "execution_count": 52,
     "metadata": {},
     "output_type": "execute_result"
    },
    {
     "data": {
      "text/plain": "  season  daynum  wteam  wscore  lteam  lscore     numot\n0      A     136    515      86    729      80  0.075214\n1      A     136    559      68    555      59  0.075214\n2      A     136    576      75    666      63  0.075214\n3      A     136    581      75    577      60  0.075214\n4      A     136    604      81    551      74  0.075214",
      "text/html": "<div>\n<style scoped>\n    .dataframe tbody tr th:only-of-type {\n        vertical-align: middle;\n    }\n\n    .dataframe tbody tr th {\n        vertical-align: top;\n    }\n\n    .dataframe thead th {\n        text-align: right;\n    }\n</style>\n<table border=\"1\" class=\"dataframe\">\n  <thead>\n    <tr style=\"text-align: right;\">\n      <th></th>\n      <th>season</th>\n      <th>daynum</th>\n      <th>wteam</th>\n      <th>wscore</th>\n      <th>lteam</th>\n      <th>lscore</th>\n      <th>numot</th>\n    </tr>\n  </thead>\n  <tbody>\n    <tr>\n      <th>0</th>\n      <td>A</td>\n      <td>136</td>\n      <td>515</td>\n      <td>86</td>\n      <td>729</td>\n      <td>80</td>\n      <td>0.075214</td>\n    </tr>\n    <tr>\n      <th>1</th>\n      <td>A</td>\n      <td>136</td>\n      <td>559</td>\n      <td>68</td>\n      <td>555</td>\n      <td>59</td>\n      <td>0.075214</td>\n    </tr>\n    <tr>\n      <th>2</th>\n      <td>A</td>\n      <td>136</td>\n      <td>576</td>\n      <td>75</td>\n      <td>666</td>\n      <td>63</td>\n      <td>0.075214</td>\n    </tr>\n    <tr>\n      <th>3</th>\n      <td>A</td>\n      <td>136</td>\n      <td>581</td>\n      <td>75</td>\n      <td>577</td>\n      <td>60</td>\n      <td>0.075214</td>\n    </tr>\n    <tr>\n      <th>4</th>\n      <td>A</td>\n      <td>136</td>\n      <td>604</td>\n      <td>81</td>\n      <td>551</td>\n      <td>74</td>\n      <td>0.075214</td>\n    </tr>\n  </tbody>\n</table>\n</div>"
     },
     "execution_count": 52,
     "metadata": {},
     "output_type": "execute_result"
    }
   ],
   "source": [
    "dfRegularSeasonResults.loc[dfRegularSeasonResults.numot.isna(),'numot'] = dfRegularSeasonResults.loc[:,'numot'].mean()\n",
    "dfTourneyResults.loc[dfTourneyResults.numot.isna(),'numot'] = dfTourneyResults.loc[:,'numot'].mean()\n",
    "dfRegularSeasonResults.isna().sum()\n",
    "dfTourneyResults.isna().sum()\n",
    "dfRegularSeasonResults.head()\n",
    "dfTourneyResults.head()"
   ],
   "metadata": {
    "collapsed": false
   }
  },
  {
   "cell_type": "markdown",
   "source": [],
   "metadata": {
    "collapsed": false
   }
  },
  {
   "cell_type": "markdown",
   "source": [
    "Vidljivo je da su numot vrijednosti postavljene na srednju vrijednost"
   ],
   "metadata": {
    "collapsed": false
   }
  },
  {
   "cell_type": "code",
   "execution_count": 53,
   "outputs": [
    {
     "data": {
      "text/plain": "LabelEncoder()",
      "text/html": "<style>#sk-container-id-4 {color: black;background-color: white;}#sk-container-id-4 pre{padding: 0;}#sk-container-id-4 div.sk-toggleable {background-color: white;}#sk-container-id-4 label.sk-toggleable__label {cursor: pointer;display: block;width: 100%;margin-bottom: 0;padding: 0.3em;box-sizing: border-box;text-align: center;}#sk-container-id-4 label.sk-toggleable__label-arrow:before {content: \"▸\";float: left;margin-right: 0.25em;color: #696969;}#sk-container-id-4 label.sk-toggleable__label-arrow:hover:before {color: black;}#sk-container-id-4 div.sk-estimator:hover label.sk-toggleable__label-arrow:before {color: black;}#sk-container-id-4 div.sk-toggleable__content {max-height: 0;max-width: 0;overflow: hidden;text-align: left;background-color: #f0f8ff;}#sk-container-id-4 div.sk-toggleable__content pre {margin: 0.2em;color: black;border-radius: 0.25em;background-color: #f0f8ff;}#sk-container-id-4 input.sk-toggleable__control:checked~div.sk-toggleable__content {max-height: 200px;max-width: 100%;overflow: auto;}#sk-container-id-4 input.sk-toggleable__control:checked~label.sk-toggleable__label-arrow:before {content: \"▾\";}#sk-container-id-4 div.sk-estimator input.sk-toggleable__control:checked~label.sk-toggleable__label {background-color: #d4ebff;}#sk-container-id-4 div.sk-label input.sk-toggleable__control:checked~label.sk-toggleable__label {background-color: #d4ebff;}#sk-container-id-4 input.sk-hidden--visually {border: 0;clip: rect(1px 1px 1px 1px);clip: rect(1px, 1px, 1px, 1px);height: 1px;margin: -1px;overflow: hidden;padding: 0;position: absolute;width: 1px;}#sk-container-id-4 div.sk-estimator {font-family: monospace;background-color: #f0f8ff;border: 1px dotted black;border-radius: 0.25em;box-sizing: border-box;margin-bottom: 0.5em;}#sk-container-id-4 div.sk-estimator:hover {background-color: #d4ebff;}#sk-container-id-4 div.sk-parallel-item::after {content: \"\";width: 100%;border-bottom: 1px solid gray;flex-grow: 1;}#sk-container-id-4 div.sk-label:hover label.sk-toggleable__label {background-color: #d4ebff;}#sk-container-id-4 div.sk-serial::before {content: \"\";position: absolute;border-left: 1px solid gray;box-sizing: border-box;top: 0;bottom: 0;left: 50%;z-index: 0;}#sk-container-id-4 div.sk-serial {display: flex;flex-direction: column;align-items: center;background-color: white;padding-right: 0.2em;padding-left: 0.2em;position: relative;}#sk-container-id-4 div.sk-item {position: relative;z-index: 1;}#sk-container-id-4 div.sk-parallel {display: flex;align-items: stretch;justify-content: center;background-color: white;position: relative;}#sk-container-id-4 div.sk-item::before, #sk-container-id-4 div.sk-parallel-item::before {content: \"\";position: absolute;border-left: 1px solid gray;box-sizing: border-box;top: 0;bottom: 0;left: 50%;z-index: -1;}#sk-container-id-4 div.sk-parallel-item {display: flex;flex-direction: column;z-index: 1;position: relative;background-color: white;}#sk-container-id-4 div.sk-parallel-item:first-child::after {align-self: flex-end;width: 50%;}#sk-container-id-4 div.sk-parallel-item:last-child::after {align-self: flex-start;width: 50%;}#sk-container-id-4 div.sk-parallel-item:only-child::after {width: 0;}#sk-container-id-4 div.sk-dashed-wrapped {border: 1px dashed gray;margin: 0 0.4em 0.5em 0.4em;box-sizing: border-box;padding-bottom: 0.4em;background-color: white;}#sk-container-id-4 div.sk-label label {font-family: monospace;font-weight: bold;display: inline-block;line-height: 1.2em;}#sk-container-id-4 div.sk-label-container {text-align: center;}#sk-container-id-4 div.sk-container {/* jupyter's `normalize.less` sets `[hidden] { display: none; }` but bootstrap.min.css set `[hidden] { display: none !important; }` so we also need the `!important` here to be able to override the default hidden behavior on the sphinx rendered scikit-learn.org. See: https://github.com/scikit-learn/scikit-learn/issues/21755 */display: inline-block !important;position: relative;}#sk-container-id-4 div.sk-text-repr-fallback {display: none;}</style><div id=\"sk-container-id-4\" class=\"sk-top-container\"><div class=\"sk-text-repr-fallback\"><pre>LabelEncoder()</pre><b>In a Jupyter environment, please rerun this cell to show the HTML representation or trust the notebook. <br />On GitHub, the HTML representation is unable to render, please try loading this page with nbviewer.org.</b></div><div class=\"sk-container\" hidden><div class=\"sk-item\"><div class=\"sk-estimator sk-toggleable\"><input class=\"sk-toggleable__control sk-hidden--visually\" id=\"sk-estimator-id-4\" type=\"checkbox\" checked><label for=\"sk-estimator-id-4\" class=\"sk-toggleable__label sk-toggleable__label-arrow\">LabelEncoder</label><div class=\"sk-toggleable__content\"><pre>LabelEncoder()</pre></div></div></div></div></div>"
     },
     "execution_count": 53,
     "metadata": {},
     "output_type": "execute_result"
    },
    {
     "name": "stderr",
     "output_type": "stream",
     "text": [
      "/var/folders/4j/1szjylzj6w92zhlstrybjdwr0000gn/T/ipykernel_55106/2944573853.py:4: FutureWarning: In a future version, `df.iloc[:, i] = newvals` will attempt to set the values inplace instead of always setting a new array. To retain the old behavior, use either `df[df.columns[i]] = newvals` or, if columns are non-unique, `df.isetitem(i, newvals)`\n",
      "  dfSeasons.loc[:,'season'] = le.transform(dfSeasons.loc[:,'season'])\n"
     ]
    }
   ],
   "source": [
    "le = preprocessing.LabelEncoder()\n",
    "le.fit(dfSeasons.loc[:,'season'])\n",
    "\n",
    "dfSeasons.loc[:,'season'] = le.transform(dfSeasons.loc[:,'season'])\n",
    "\n",
    "\n",
    "\n",
    "categories = ['regionW', 'regionX', 'regionY', 'regionZ']\n",
    "dfSeasons[categories] = dfSeasons[categories].apply(le.fit_transform)"
   ],
   "metadata": {
    "collapsed": false
   }
  },
  {
   "cell_type": "code",
   "execution_count": 54,
   "outputs": [
    {
     "name": "stdout",
     "output_type": "stream",
     "text": [
      "<class 'pandas.core.frame.DataFrame'>\n",
      "RangeIndex: 19 entries, 0 to 18\n",
      "Data columns (total 7 columns):\n",
      " #   Column   Non-Null Count  Dtype \n",
      "---  ------   --------------  ----- \n",
      " 0   season   19 non-null     int64 \n",
      " 1   years    19 non-null     object\n",
      " 2   dayzero  19 non-null     object\n",
      " 3   regionW  19 non-null     int64 \n",
      " 4   regionX  19 non-null     int64 \n",
      " 5   regionY  19 non-null     int64 \n",
      " 6   regionZ  19 non-null     int64 \n",
      "dtypes: int64(5), object(2)\n",
      "memory usage: 1.2+ KB\n"
     ]
    },
    {
     "data": {
      "text/plain": "   season      years     dayzero  regionW  regionX  regionY  regionZ\n0       0  1995-1996  10/30/1995        2        1        6        5\n1       1  1996-1997  10/28/1996        2        5        3        5\n2       2  1997-1998  10/27/1997        2        6        3        0\n3       3  1998-1999  10/26/1998        2        1        5        5\n4       4  1999-2000  11/01/1999        3        6        1        0",
      "text/html": "<div>\n<style scoped>\n    .dataframe tbody tr th:only-of-type {\n        vertical-align: middle;\n    }\n\n    .dataframe tbody tr th {\n        vertical-align: top;\n    }\n\n    .dataframe thead th {\n        text-align: right;\n    }\n</style>\n<table border=\"1\" class=\"dataframe\">\n  <thead>\n    <tr style=\"text-align: right;\">\n      <th></th>\n      <th>season</th>\n      <th>years</th>\n      <th>dayzero</th>\n      <th>regionW</th>\n      <th>regionX</th>\n      <th>regionY</th>\n      <th>regionZ</th>\n    </tr>\n  </thead>\n  <tbody>\n    <tr>\n      <th>0</th>\n      <td>0</td>\n      <td>1995-1996</td>\n      <td>10/30/1995</td>\n      <td>2</td>\n      <td>1</td>\n      <td>6</td>\n      <td>5</td>\n    </tr>\n    <tr>\n      <th>1</th>\n      <td>1</td>\n      <td>1996-1997</td>\n      <td>10/28/1996</td>\n      <td>2</td>\n      <td>5</td>\n      <td>3</td>\n      <td>5</td>\n    </tr>\n    <tr>\n      <th>2</th>\n      <td>2</td>\n      <td>1997-1998</td>\n      <td>10/27/1997</td>\n      <td>2</td>\n      <td>6</td>\n      <td>3</td>\n      <td>0</td>\n    </tr>\n    <tr>\n      <th>3</th>\n      <td>3</td>\n      <td>1998-1999</td>\n      <td>10/26/1998</td>\n      <td>2</td>\n      <td>1</td>\n      <td>5</td>\n      <td>5</td>\n    </tr>\n    <tr>\n      <th>4</th>\n      <td>4</td>\n      <td>1999-2000</td>\n      <td>11/01/1999</td>\n      <td>3</td>\n      <td>6</td>\n      <td>1</td>\n      <td>0</td>\n    </tr>\n  </tbody>\n</table>\n</div>"
     },
     "execution_count": 54,
     "metadata": {},
     "output_type": "execute_result"
    }
   ],
   "source": [
    "dfSeasons.info()\n",
    "dfSeasons.head()"
   ],
   "metadata": {
    "collapsed": false
   }
  },
  {
   "cell_type": "markdown",
   "source": [
    "Atribut season sam labelirao te promjenio da bude numeričkog tipa radi lakšeg baratanja s podatcima, takoder sam labelirao regije iz tablice season da budu numerički tipovi."
   ],
   "metadata": {
    "collapsed": false
   }
  },
  {
   "cell_type": "code",
   "execution_count": 55,
   "outputs": [
    {
     "data": {
      "text/plain": "(array([7.0000e+00, 2.7000e+01, 1.2300e+02, 3.9000e+02, 1.1030e+03,\n        2.6960e+03, 5.0900e+03, 8.0630e+03, 1.1178e+04, 1.2696e+04,\n        1.2937e+04, 1.1541e+04, 8.9530e+03, 6.5890e+03, 4.2570e+03,\n        2.4440e+03, 1.4440e+03, 8.2200e+02, 4.1500e+02, 2.2000e+02,\n        1.1100e+02, 5.6000e+01, 2.9000e+01, 1.5000e+01, 7.0000e+00,\n        4.0000e+00, 3.0000e+00, 3.0000e+00, 0.0000e+00, 1.0000e+00]),\n array([ 34.        ,  37.96666667,  41.93333333,  45.9       ,\n         49.86666667,  53.83333333,  57.8       ,  61.76666667,\n         65.73333333,  69.7       ,  73.66666667,  77.63333333,\n         81.6       ,  85.56666667,  89.53333333,  93.5       ,\n         97.46666667, 101.43333333, 105.4       , 109.36666667,\n        113.33333333, 117.3       , 121.26666667, 125.23333333,\n        129.2       , 133.16666667, 137.13333333, 141.1       ,\n        145.06666667, 149.03333333, 153.        ]),\n <BarContainer object of 30 artists>)"
     },
     "execution_count": 55,
     "metadata": {},
     "output_type": "execute_result"
    },
    {
     "data": {
      "text/plain": "Text(0.5, 0, 'Win Score')"
     },
     "execution_count": 55,
     "metadata": {},
     "output_type": "execute_result"
    },
    {
     "data": {
      "text/plain": "<Figure size 640x480 with 1 Axes>",
      "image/png": "[encoded data removed]"
     },
     "metadata": {},
     "output_type": "display_data"
    }
   ],
   "source": [
    "plt.hist(dfRegularSeasonResults.wscore, bins=30)\n",
    "plt.xlabel('Win Score')\n",
    "plt.show()\n"
   ],
   "metadata": {
    "collapsed": false
   }
  },
  {
   "cell_type": "markdown",
   "source": [
    "Za prikaz histograma odlučio sam raditi nad atributom wscore iz dataframe dfRegularSeasonResults kako bih prikazao koliko pobjednička ekipa ubacuje poena, iz grafa je vidljivo da se ta brojka najviše kreće oko 70-80"
   ],
   "metadata": {
    "collapsed": false
   }
  },
  {
   "cell_type": "code",
   "execution_count": 56,
   "outputs": [
    {
     "data": {
      "text/plain": "(array([7.0000e+00, 2.7000e+01, 1.2300e+02, 3.9000e+02, 1.1030e+03,\n        2.6960e+03, 5.0900e+03, 8.0630e+03, 1.1178e+04, 1.2696e+04,\n        1.2937e+04, 1.1541e+04, 8.9530e+03, 6.5890e+03, 4.2570e+03,\n        2.4440e+03, 1.4440e+03, 8.2200e+02, 4.1500e+02, 2.2000e+02,\n        1.1100e+02, 5.6000e+01, 2.9000e+01, 1.5000e+01, 7.0000e+00,\n        4.0000e+00, 3.0000e+00, 3.0000e+00, 0.0000e+00, 1.0000e+00]),\n array([ 34.        ,  37.96666667,  41.93333333,  45.9       ,\n         49.86666667,  53.83333333,  57.8       ,  61.76666667,\n         65.73333333,  69.7       ,  73.66666667,  77.63333333,\n         81.6       ,  85.56666667,  89.53333333,  93.5       ,\n         97.46666667, 101.43333333, 105.4       , 109.36666667,\n        113.33333333, 117.3       , 121.26666667, 125.23333333,\n        129.2       , 133.16666667, 137.13333333, 141.1       ,\n        145.06666667, 149.03333333, 153.        ]),\n <BarContainer object of 30 artists>)"
     },
     "execution_count": 56,
     "metadata": {},
     "output_type": "execute_result"
    },
    {
     "data": {
      "text/plain": "(array([9.0000e+00, 1.8000e+01, 4.7000e+01, 2.0700e+02, 7.0400e+02,\n        1.7070e+03, 3.5950e+03, 6.2210e+03, 9.4770e+03, 1.2202e+04,\n        1.3668e+04, 1.2940e+04, 1.0831e+04, 8.0130e+03, 5.1310e+03,\n        3.1100e+03, 1.6490e+03, 8.7400e+02, 4.2400e+02, 1.8800e+02,\n        1.0000e+02, 5.5000e+01, 2.9000e+01, 9.0000e+00, 9.0000e+00,\n        3.0000e+00, 2.0000e+00, 1.0000e+00, 0.0000e+00, 1.0000e+00]),\n array([ 20.,  24.,  28.,  32.,  36.,  40.,  44.,  48.,  52.,  56.,  60.,\n         64.,  68.,  72.,  76.,  80.,  84.,  88.,  92.,  96., 100., 104.,\n        108., 112., 116., 120., 124., 128., 132., 136., 140.]),\n <BarContainer object of 30 artists>)"
     },
     "execution_count": 56,
     "metadata": {},
     "output_type": "execute_result"
    },
    {
     "data": {
      "text/plain": "<matplotlib.legend.Legend at 0x14f81f5e0>"
     },
     "execution_count": 56,
     "metadata": {},
     "output_type": "execute_result"
    },
    {
     "data": {
      "text/plain": "<Figure size 640x480 with 1 Axes>",
      "image/png": "[encoded data removed]"
     },
     "metadata": {},
     "output_type": "display_data"
    }
   ],
   "source": [
    "plt.hist(dfRegularSeasonResults.wscore, bins=30, label='Win score', color='black', alpha=0.3)\n",
    "plt.hist(dfRegularSeasonResults.lscore, bins=30, label='Lose score', color='purple', alpha=0.3)\n",
    "plt.legend(loc='best')\n",
    "plt.grid()\n",
    "plt.show()"
   ],
   "metadata": {
    "collapsed": false
   }
  },
  {
   "cell_type": "code",
   "execution_count": 57,
   "outputs": [
    {
     "data": {
      "text/plain": "[<matplotlib.lines.Line2D at 0x118169b70>]"
     },
     "execution_count": 57,
     "metadata": {},
     "output_type": "execute_result"
    },
    {
     "data": {
      "text/plain": "<Figure size 640x480 with 1 Axes>",
      "image/png": "[encoded data removed]"
     },
     "metadata": {},
     "output_type": "display_data"
    }
   ],
   "source": [
    "# show 30 youngest passengers\n",
    "sorted_scores = dfRegularSeasonResults.sort_values(by=['wscore'], ascending=False).wscore.values[:30]\n",
    "# teamsid = dfRegularSeasonResults.sort_values(by=['wscore'], ascending=False).wteam.values[:10]\n",
    "teamsid = [x for x in range(30)]\n",
    "# plot\n",
    "plt.plot(teamsid, sorted_scores)\n",
    "plt.show()"
   ],
   "metadata": {
    "collapsed": false
   }
  },
  {
   "cell_type": "markdown",
   "source": [],
   "metadata": {
    "collapsed": false
   }
  },
  {
   "cell_type": "markdown",
   "source": [
    "Graf prikazuje koliko poena je najvise zabijeno kroz sve sezone(konkretno top 30)"
   ],
   "metadata": {
    "collapsed": false
   }
  }
 ],
 "metadata": {
  "kernelspec": {
   "display_name": "Python 3",
   "language": "python",
   "name": "python3"
  },
  "language_info": {
   "codemirror_mode": {
    "name": "ipython",
    "version": 2
   },
   "file_extension": ".py",
   "mimetype": "text/x-python",
   "name": "python",
   "nbconvert_exporter": "python",
   "pygments_lexer": "ipython2",
   "version": "2.7.6"
  }
 },
 "nbformat": 4,
 "nbformat_minor": 0
}
